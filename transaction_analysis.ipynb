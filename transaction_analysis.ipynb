{
 "cells": [
  {
   "cell_type": "code",
   "execution_count": null,
   "id": "0385792a",
   "metadata": {},
   "outputs": [],
   "source": [
    "import numpy as np\n",
    "import pandas as pd\n",
    "import matplotlib.pyplot as plt\n",
    "import seaborn as sns\n",
    "\n",
    "from sklearn.neighbors import KernelDensity\n",
    "from scipy.signal import find_peaks\n",
    "\n",
    "import warnings\n",
    "warnings.simplefilter(action='ignore')"
   ]
  },
  {
   "cell_type": "code",
   "execution_count": null,
   "id": "1d9cb40b",
   "metadata": {},
   "outputs": [],
   "source": [
    "trans = pd.read_csv('transactions.csv')\n",
    "acc = pd.read_csv('accounts.csv')"
   ]
  },
  {
   "cell_type": "code",
   "execution_count": null,
   "id": "bcc4a705",
   "metadata": {},
   "outputs": [],
   "source": [
    "trans.info()"
   ]
  },
  {
   "cell_type": "code",
   "execution_count": null,
   "id": "55387e11",
   "metadata": {},
   "outputs": [],
   "source": [
    "acc.info()"
   ]
  },
  {
   "cell_type": "code",
   "execution_count": null,
   "id": "d81582a9",
   "metadata": {},
   "outputs": [],
   "source": [
    "# Check null value\n",
    "print(trans.isnull().sum())\n",
    "print(acc.isnull().sum())"
   ]
  },
  {
   "cell_type": "code",
   "execution_count": null,
   "id": "26bb9729",
   "metadata": {},
   "outputs": [],
   "source": [
    "# Check if columns have just one value\n",
    "print(acc['COUNTRY'].nunique())\n",
    "print(acc['ACCOUNT_TYPE'].nunique())\n",
    "print(trans['TX_TYPE'].nunique())"
   ]
  },
  {
   "cell_type": "code",
   "execution_count": null,
   "id": "fd148dc2",
   "metadata": {},
   "outputs": [],
   "source": [
    "# Drop TX_TYPE and ALERT_ID in transaction\n",
    "trans.drop(['TX_TYPE', 'ALERT_ID'], axis = 1, inplace = True)\n",
    "# Drop CUSTOMER_ID, COUNTRY, ACCOUNT_TYPE in account\n",
    "acc.drop(['CUSTOMER_ID', 'COUNTRY', 'ACCOUNT_TYPE'], axis = 1, inplace = True)"
   ]
  },
  {
   "cell_type": "code",
   "execution_count": null,
   "id": "5371c889",
   "metadata": {},
   "outputs": [],
   "source": [
    "# Match transaction behavior ID and initial balance account from account data to transaction data\n",
    "tx_features = trans.merge(acc, left_on = 'SENDER_ACCOUNT_ID', right_on='ACCOUNT_ID', how='left')\n",
    "tx_features = tx_features.rename(columns={'INIT_BALANCE': 'SENDER_INIT_BALANCE', \n",
    "                                              'TX_BEHAVIOR_ID': 'SENDER_BEHAVIOR_ID'})\n",
    "tx_features = tx_features.merge(acc, left_on='RECEIVER_ACCOUNT_ID', right_on='ACCOUNT_ID', \n",
    "                                    how='left', suffixes=('', '_RECEIVER'))\n",
    "tx_features = tx_features.rename(columns={'INIT_BALANCE': 'RECEIVER_INIT_BALANCE', \n",
    "                                              'TX_BEHAVIOR_ID': 'RECEIVER_BEHAVIOR_ID'})\n",
    "tx_features.drop(['IS_FRAUD_y', 'IS_FRAUD', 'ACCOUNT_ID_RECEIVER', 'ACCOUNT_ID'], axis = 1, inplace = True)\n",
    "tx_features.rename(columns = {'IS_FRAUD_x': 'fraud'}, inplace = True)"
   ]
  },
  {
   "cell_type": "code",
   "execution_count": null,
   "id": "13497701",
   "metadata": {},
   "outputs": [],
   "source": [
    "# Calculate amount to initial balance ratio\n",
    "tx_features['amount_to_sender_balance_ratio'] = tx_features['TX_AMOUNT'] / tx_features['SENDER_INIT_BALANCE']\n",
    "tx_features['amount_to_receiver_balance_ratio'] = tx_features['TX_AMOUNT'] / tx_features['RECEIVER_INIT_BALANCE']"
   ]
  },
  {
   "cell_type": "code",
   "execution_count": null,
   "id": "c457b7dd",
   "metadata": {},
   "outputs": [],
   "source": [
    "# Plot continous variables\n",
    "columns = [\n",
    "    ('TX_AMOUNT', 'transaction amount'),\n",
    "    ('amount_to_sender_balance_ratio', 'transaction amount to sender balance ratio'),\n",
    "    ('amount_to_receiver_balance_ratio', 'transaction amount to receiver balance ratio') \n",
    "]\n",
    "\n",
    "# Create a figure with 3 subplots in a horizontal line\n",
    "fig, axes = plt.subplots(1, 3, figsize=(18, 6))\n",
    "\n",
    "# Iterate through each column and plot on the corresponding axis\n",
    "for i, (col, title) in enumerate(columns):\n",
    "    sns.kdeplot(np.log(tx_features[col]), ax=axes[i])\n",
    "    axes[i].set_title(f'Distribution of {title}')\n",
    "\n",
    "# Adjust layout\n",
    "plt.tight_layout()\n",
    "plt.show()"
   ]
  },
  {
   "cell_type": "code",
   "execution_count": null,
   "id": "2322b366",
   "metadata": {},
   "outputs": [],
   "source": [
    "# Plot categorical variable\n",
    "columns = [\n",
    "    ('fraud', 'fraud'),\n",
    "    ('SENDER_BEHAVIOR_ID', 'sender behavior'),\n",
    "    ('RECEIVER_BEHAVIOR_ID', 'receiver behavior')\n",
    "]\n",
    "\n",
    "# Create a figure with 3 subplots in a horizontal line\n",
    "fig, axes = plt.subplots(1, 3, figsize=(18, 6))\n",
    "\n",
    "# Iterate through each column and plot on the corresponding axis\n",
    "for i, (col, title) in enumerate(columns):\n",
    "    values = tx_features[col].value_counts()\n",
    "    \n",
    "    # Plot pie chart\n",
    "    axes[i].pie(values, labels=values.index, autopct='%1.1f%%', startangle=140)\n",
    "    axes[i].set_title(f'Distribution of {title}')\n",
    "\n",
    "# Adjust layout\n",
    "plt.tight_layout()\n",
    "plt.show()"
   ]
  },
  {
   "cell_type": "code",
   "execution_count": null,
   "id": "a7a27469",
   "metadata": {},
   "outputs": [],
   "source": [
    "# Def function to identify the bottom and peaks of distribution for data discretization\n",
    "from scipy.signal import find_peaks\n",
    "from scipy.stats import gaussian_kde\n",
    "def discretize_tx(data, column):\n",
    "    # Transform the data using logarithm\n",
    "    log_data = np.log1p(data[column])  # log1p is used to avoid log(0) issues\n",
    "\n",
    "    # KDE to estimate density on logarithm-transformed data\n",
    "    kde = KernelDensity(bandwidth=0.1, kernel='gaussian')\n",
    "    kde.fit(log_data.values.reshape(-1, 1))\n",
    "\n",
    "    # Generate a range of values for the log-transformed data\n",
    "    log_x = np.linspace(log_data.min(), log_data.max(), 1000).reshape(-1, 1)\n",
    "    log_density = kde.score_samples(log_x)\n",
    "    log_density = np.exp(log_density)\n",
    "\n",
    "    # Find peaks (modes) in the log-transformed data\n",
    "    peaks, _ = find_peaks(log_density)\n",
    "    log_modes = log_x[peaks]\n",
    "\n",
    "    # Find valleys (local minima) between peaks to set thresholds in log scale\n",
    "    valleys, _ = find_peaks(-log_density)\n",
    "    log_thresholds = log_x[valleys]\n",
    "    \n",
    "    # Convert log thresholds back to original scale\n",
    "    thresholds = np.expm1(log_thresholds).flatten()\n",
    "    \n",
    "    # Plot the log density with peaks and valleys\n",
    "    plt.figure(figsize=(10, 6))\n",
    "    plt.plot(log_x, log_density, label='Log Density')\n",
    "    plt.plot(log_modes, log_density[peaks], 'ro', label='Log Modes')\n",
    "    plt.plot(log_thresholds, log_density[valleys], 'go', label='Log Valleys (Thresholds)')\n",
    "    plt.xlabel(f'Log of {column}')\n",
    "    plt.ylabel('Density')\n",
    "    plt.title('Kernel Density Estimation (Log Scale)')\n",
    "    plt.legend()\n",
    "    plt.show()\n",
    "\n",
    "    return thresholds"
   ]
  },
  {
   "cell_type": "code",
   "execution_count": null,
   "id": "7b941fc3",
   "metadata": {},
   "outputs": [],
   "source": [
    "discretize_tx(tx_features, 'TX_AMOUNT')"
   ]
  },
  {
   "cell_type": "code",
   "execution_count": null,
   "id": "d61986e9",
   "metadata": {},
   "outputs": [],
   "source": [
    "discretize_tx(tx_features, 'amount_to_sender_balance_ratio')"
   ]
  },
  {
   "cell_type": "code",
   "execution_count": null,
   "id": "62701363",
   "metadata": {},
   "outputs": [],
   "source": [
    "discretize_tx(tx_features, 'amount_to_receiver_balance_ratio')"
   ]
  },
  {
   "cell_type": "code",
   "execution_count": null,
   "id": "b91727a0",
   "metadata": {},
   "outputs": [],
   "source": [
    "# Identify bins based on plot\n",
    "tx_bins = [9.65538034e+00, 7.46803678e+01, 2.67823111e+02, 9.06675552e+02]\n",
    "sender_bins = [4.78727948e-01, 2.23344028e+00]\n",
    "receive_bins = [3.56853867e-01, 8.33559758e+00]"
   ]
  },
  {
   "cell_type": "code",
   "execution_count": null,
   "id": "8fbe6f72",
   "metadata": {},
   "outputs": [],
   "source": [
    "# Data discretization\n",
    "tx_features['timestamp_bin'] = pd.cut(tx_features['TIMESTAMP'], bins=10, labels=False)\n",
    "tx_features['discretized_tx'] =  np.digitize(tx_features['TX_AMOUNT'], tx_bins)\n",
    "tx_features['discretize_sender_ratio'] =  np.digitize(tx_features['amount_to_sender_balance_ratio'], sender_bins)\n",
    "tx_features['discretize_receiver_ratio'] =  np.digitize(tx_features['amount_to_receiver_balance_ratio'], receive_bins)"
   ]
  },
  {
   "cell_type": "code",
   "execution_count": null,
   "id": "b2577e86",
   "metadata": {},
   "outputs": [],
   "source": [
    "# Finalize dataset for modeling\n",
    "tx_final = tx_features.drop(['TX_ID', 'SENDER_ACCOUNT_ID', 'RECEIVER_ACCOUNT_ID', 'TX_AMOUNT', 'TIMESTAMP', \n",
    "                             'SENDER_INIT_BALANCE', 'RECEIVER_INIT_BALANCE', \n",
    "                             'amount_to_sender_balance_ratio', 'amount_to_receiver_balance_ratio'], axis = 1)\n",
    "tx_final.rename(columns = {'SENDER_BEHAVIOR_ID': 'sender_behavior','RECEIVER_BEHAVIOR_ID': 'receiver_behavior'}, inplace = True)\n",
    "tx_final['fraud'] = pd.Categorical(tx_final['fraud']).codes"
   ]
  },
  {
   "cell_type": "code",
   "execution_count": null,
   "id": "bc8f00b9",
   "metadata": {},
   "outputs": [],
   "source": [
    "tx_final.head()"
   ]
  },
  {
   "cell_type": "code",
   "execution_count": null,
   "id": "69fd13b9",
   "metadata": {},
   "outputs": [],
   "source": [
    "# Export to csv file to be used for BBN modeling in GeNIe\n",
    "tx_final.to_csv('txdata.csv', index = False)"
   ]
  },
  {
   "cell_type": "code",
   "execution_count": null,
   "id": "b7d542ac",
   "metadata": {},
   "outputs": [],
   "source": [
    "# Visualize the inference results from GeNIe\n",
    "sender_behavior = {'1': [0.998, 0.002], \n",
    "      '2': [0.97, 0.03],\n",
    "      '3': [0.72, 0.28], \n",
    "      '4': [0.78, 0.22],\n",
    "      '5': [0.99, 0.01]}\n",
    "# Extracting the data\n",
    "labels = list(sender_behavior.keys())\n",
    "non_fraud = [sender_behavior[label][0] for label in labels]\n",
    "fraud = [sender_behavior[label][1] for label in labels]\n",
    "\n",
    "x = np.arange(len(labels))  # the label locations\n",
    "width = 0.35  # the width of the bars\n",
    "\n",
    "# Plotting the bars\n",
    "fig, ax = plt.subplots(figsize=(10, 6))\n",
    "rects1 = ax.bar(x - width/2, non_fraud, width, label='Non-Fraud', color='lightblue')\n",
    "rects2 = ax.bar(x + width/2, fraud, width, label='Fraud', color='blue')\n",
    "\n",
    "# Adding labels and title\n",
    "ax.set_xlabel('Sender behavior')\n",
    "ax.set_ylabel('Probability')\n",
    "ax.set_title('Distribution of Fraud under Each State of transaction amount')\n",
    "ax.set_xticks(x)\n",
    "ax.set_xticklabels(labels)\n",
    "ax.legend()\n",
    "\n",
    "plt.show()"
   ]
  },
  {
   "cell_type": "code",
   "execution_count": null,
   "id": "1e1cc247",
   "metadata": {},
   "outputs": [],
   "source": [
    "# Visualize inference results from GeNIe\n",
    "tx = ['below 9.6', '9.6 to 74.7', '74.7 to 267.8', '267.8 to 906.7', 'over 906.7']\n",
    "fraud = {'1': [0, 0, 0.04, 0.5, 0.5],\n",
    "        '2': [0.87, 0.85, 0.25, 0.21, 0],\n",
    "        '3': [0.95, 0.67, 0.5, 0, 0.5],\n",
    "        '4': [0.96, 0.66, 0, 0.5, 0.5],\n",
    "        '5': [0.97, 0.91, 0, 0, 0.5]}\n",
    "\n",
    "query = pd.DataFrame(fraud, index = tx)\n",
    "sns.heatmap(query, annot=True, fmt=\"g\", cmap='Blues')  # Use 'Blues' colormap\n",
    "plt.ylabel('Transaction amount')\n",
    "plt.xlabel('Sender behavior')\n",
    "plt.show()"
   ]
  }
 ],
 "metadata": {
  "kernelspec": {
   "display_name": "Python 3 (ipykernel)",
   "language": "python",
   "name": "python3"
  },
  "language_info": {
   "codemirror_mode": {
    "name": "ipython",
    "version": 3
   },
   "file_extension": ".py",
   "mimetype": "text/x-python",
   "name": "python",
   "nbconvert_exporter": "python",
   "pygments_lexer": "ipython3",
   "version": "3.10.9"
  }
 },
 "nbformat": 4,
 "nbformat_minor": 5
}
